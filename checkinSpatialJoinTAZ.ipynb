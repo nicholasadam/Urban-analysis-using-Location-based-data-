{
 "cells": [
  {
   "cell_type": "code",
   "execution_count": 1,
   "metadata": {},
   "outputs": [
    {
     "name": "stdout",
     "output_type": "stream",
     "text": [
      "C:\\ProgramData\\Anaconda2\\envs\\tf\\python.exe\n"
     ]
    }
   ],
   "source": [
    "import sys\n",
    "print(sys.executable)"
   ]
  },
  {
   "cell_type": "code",
   "execution_count": 2,
   "metadata": {},
   "outputs": [],
   "source": [
    "import pandas as pd"
   ]
  },
  {
   "cell_type": "code",
   "execution_count": 3,
   "metadata": {},
   "outputs": [],
   "source": [
    "df = pd.read_pickle('firehose10m')"
   ]
  },
  {
   "cell_type": "code",
   "execution_count": 4,
   "metadata": {},
   "outputs": [
    {
     "data": {
      "text/html": [
       "<div>\n",
       "<style scoped>\n",
       "    .dataframe tbody tr th:only-of-type {\n",
       "        vertical-align: middle;\n",
       "    }\n",
       "\n",
       "    .dataframe tbody tr th {\n",
       "        vertical-align: top;\n",
       "    }\n",
       "\n",
       "    .dataframe thead th {\n",
       "        text-align: right;\n",
       "    }\n",
       "</style>\n",
       "<table border=\"1\" class=\"dataframe\">\n",
       "  <thead>\n",
       "    <tr style=\"text-align: right;\">\n",
       "      <th></th>\n",
       "      <th>ROWNUM</th>\n",
       "      <th>LAT</th>\n",
       "      <th>LNG</th>\n",
       "      <th>COLLECT_TIME</th>\n",
       "      <th>TIMEZONEOFFSET</th>\n",
       "      <th>CATEGORY</th>\n",
       "      <th>CATEGORY_NAME</th>\n",
       "      <th>COLLECT_TIME_UTC</th>\n",
       "      <th>COLLECT_TIME_lOCAL</th>\n",
       "    </tr>\n",
       "  </thead>\n",
       "  <tbody>\n",
       "    <tr>\n",
       "      <th>0</th>\n",
       "      <td>1</td>\n",
       "      <td>40.340646</td>\n",
       "      <td>36.562329</td>\n",
       "      <td>1.472502e+09</td>\n",
       "      <td>180.0</td>\n",
       "      <td>4bf58dd8d48988d165941735</td>\n",
       "      <td>Outdoors &amp; Recreation</td>\n",
       "      <td>2016-08-29 20:12:12</td>\n",
       "      <td>2016-08-29 23:12:12</td>\n",
       "    </tr>\n",
       "    <tr>\n",
       "      <th>1</th>\n",
       "      <td>2</td>\n",
       "      <td>37.036869</td>\n",
       "      <td>35.314641</td>\n",
       "      <td>1.472502e+09</td>\n",
       "      <td>180.0</td>\n",
       "      <td>4bf58dd8d48988d116941735</td>\n",
       "      <td>Nightlife Spot</td>\n",
       "      <td>2016-08-29 20:12:12</td>\n",
       "      <td>2016-08-29 23:12:12</td>\n",
       "    </tr>\n",
       "    <tr>\n",
       "      <th>2</th>\n",
       "      <td>3</td>\n",
       "      <td>39.598118</td>\n",
       "      <td>26.973218</td>\n",
       "      <td>1.472502e+09</td>\n",
       "      <td>180.0</td>\n",
       "      <td>4bf58dd8d48988d1e0931735</td>\n",
       "      <td>Food</td>\n",
       "      <td>2016-08-29 20:12:12</td>\n",
       "      <td>2016-08-29 23:12:12</td>\n",
       "    </tr>\n",
       "    <tr>\n",
       "      <th>3</th>\n",
       "      <td>4</td>\n",
       "      <td>38.388492</td>\n",
       "      <td>27.165315</td>\n",
       "      <td>1.472502e+09</td>\n",
       "      <td>180.0</td>\n",
       "      <td>4bf58dd8d48988d116941735</td>\n",
       "      <td>Nightlife Spot</td>\n",
       "      <td>2016-08-29 20:12:12</td>\n",
       "      <td>2016-08-29 23:12:12</td>\n",
       "    </tr>\n",
       "    <tr>\n",
       "      <th>4</th>\n",
       "      <td>5</td>\n",
       "      <td>36.754580</td>\n",
       "      <td>34.538092</td>\n",
       "      <td>1.472502e+09</td>\n",
       "      <td>180.0</td>\n",
       "      <td>4bf58dd8d48988d1d0941735</td>\n",
       "      <td>Food</td>\n",
       "      <td>2016-08-29 20:12:12</td>\n",
       "      <td>2016-08-29 23:12:12</td>\n",
       "    </tr>\n",
       "  </tbody>\n",
       "</table>\n",
       "</div>"
      ],
      "text/plain": [
       "   ROWNUM        LAT        LNG  COLLECT_TIME  TIMEZONEOFFSET  \\\n",
       "0       1  40.340646  36.562329  1.472502e+09           180.0   \n",
       "1       2  37.036869  35.314641  1.472502e+09           180.0   \n",
       "2       3  39.598118  26.973218  1.472502e+09           180.0   \n",
       "3       4  38.388492  27.165315  1.472502e+09           180.0   \n",
       "4       5  36.754580  34.538092  1.472502e+09           180.0   \n",
       "\n",
       "                   CATEGORY          CATEGORY_NAME    COLLECT_TIME_UTC  \\\n",
       "0  4bf58dd8d48988d165941735  Outdoors & Recreation 2016-08-29 20:12:12   \n",
       "1  4bf58dd8d48988d116941735         Nightlife Spot 2016-08-29 20:12:12   \n",
       "2  4bf58dd8d48988d1e0931735                   Food 2016-08-29 20:12:12   \n",
       "3  4bf58dd8d48988d116941735         Nightlife Spot 2016-08-29 20:12:12   \n",
       "4  4bf58dd8d48988d1d0941735                   Food 2016-08-29 20:12:12   \n",
       "\n",
       "   COLLECT_TIME_lOCAL  \n",
       "0 2016-08-29 23:12:12  \n",
       "1 2016-08-29 23:12:12  \n",
       "2 2016-08-29 23:12:12  \n",
       "3 2016-08-29 23:12:12  \n",
       "4 2016-08-29 23:12:12  "
      ]
     },
     "execution_count": 4,
     "metadata": {},
     "output_type": "execute_result"
    }
   ],
   "source": [
    "df.head()"
   ]
  },
  {
   "cell_type": "code",
   "execution_count": 5,
   "metadata": {},
   "outputs": [],
   "source": [
    "import pandas as pd\n",
    "import geopandas as gpd\n",
    "import requests\n",
    "from shapely.geometry import Point"
   ]
  },
  {
   "cell_type": "code",
   "execution_count": 8,
   "metadata": {},
   "outputs": [],
   "source": [
    "geom = df.apply(lambda x : Point([x['LNG'],x['LAT']]), axis=1)"
   ]
  },
  {
   "cell_type": "code",
   "execution_count": 9,
   "metadata": {},
   "outputs": [
    {
     "data": {
      "text/html": [
       "<div>\n",
       "<style scoped>\n",
       "    .dataframe tbody tr th:only-of-type {\n",
       "        vertical-align: middle;\n",
       "    }\n",
       "\n",
       "    .dataframe tbody tr th {\n",
       "        vertical-align: top;\n",
       "    }\n",
       "\n",
       "    .dataframe thead th {\n",
       "        text-align: right;\n",
       "    }\n",
       "</style>\n",
       "<table border=\"1\" class=\"dataframe\">\n",
       "  <thead>\n",
       "    <tr style=\"text-align: right;\">\n",
       "      <th></th>\n",
       "      <th>ROWNUM</th>\n",
       "      <th>LAT</th>\n",
       "      <th>LNG</th>\n",
       "      <th>COLLECT_TIME</th>\n",
       "      <th>TIMEZONEOFFSET</th>\n",
       "      <th>CATEGORY</th>\n",
       "      <th>CATEGORY_NAME</th>\n",
       "      <th>COLLECT_TIME_UTC</th>\n",
       "      <th>COLLECT_TIME_lOCAL</th>\n",
       "      <th>geometry</th>\n",
       "    </tr>\n",
       "  </thead>\n",
       "  <tbody>\n",
       "    <tr>\n",
       "      <th>0</th>\n",
       "      <td>1</td>\n",
       "      <td>40.340646</td>\n",
       "      <td>36.562329</td>\n",
       "      <td>1.472502e+09</td>\n",
       "      <td>180.0</td>\n",
       "      <td>4bf58dd8d48988d165941735</td>\n",
       "      <td>Outdoors &amp; Recreation</td>\n",
       "      <td>2016-08-29 20:12:12</td>\n",
       "      <td>2016-08-29 23:12:12</td>\n",
       "      <td>POINT (36.56232940745824 40.34064632272965)</td>\n",
       "    </tr>\n",
       "    <tr>\n",
       "      <th>1</th>\n",
       "      <td>2</td>\n",
       "      <td>37.036869</td>\n",
       "      <td>35.314641</td>\n",
       "      <td>1.472502e+09</td>\n",
       "      <td>180.0</td>\n",
       "      <td>4bf58dd8d48988d116941735</td>\n",
       "      <td>Nightlife Spot</td>\n",
       "      <td>2016-08-29 20:12:12</td>\n",
       "      <td>2016-08-29 23:12:12</td>\n",
       "      <td>POINT (35.31464113166668 37.03686852745004)</td>\n",
       "    </tr>\n",
       "    <tr>\n",
       "      <th>2</th>\n",
       "      <td>3</td>\n",
       "      <td>39.598118</td>\n",
       "      <td>26.973218</td>\n",
       "      <td>1.472502e+09</td>\n",
       "      <td>180.0</td>\n",
       "      <td>4bf58dd8d48988d1e0931735</td>\n",
       "      <td>Food</td>\n",
       "      <td>2016-08-29 20:12:12</td>\n",
       "      <td>2016-08-29 23:12:12</td>\n",
       "      <td>POINT (26.97321839034275 39.59811832811547)</td>\n",
       "    </tr>\n",
       "    <tr>\n",
       "      <th>3</th>\n",
       "      <td>4</td>\n",
       "      <td>38.388492</td>\n",
       "      <td>27.165315</td>\n",
       "      <td>1.472502e+09</td>\n",
       "      <td>180.0</td>\n",
       "      <td>4bf58dd8d48988d116941735</td>\n",
       "      <td>Nightlife Spot</td>\n",
       "      <td>2016-08-29 20:12:12</td>\n",
       "      <td>2016-08-29 23:12:12</td>\n",
       "      <td>POINT (27.16531532459905 38.38849204824997)</td>\n",
       "    </tr>\n",
       "    <tr>\n",
       "      <th>4</th>\n",
       "      <td>5</td>\n",
       "      <td>36.754580</td>\n",
       "      <td>34.538092</td>\n",
       "      <td>1.472502e+09</td>\n",
       "      <td>180.0</td>\n",
       "      <td>4bf58dd8d48988d1d0941735</td>\n",
       "      <td>Food</td>\n",
       "      <td>2016-08-29 20:12:12</td>\n",
       "      <td>2016-08-29 23:12:12</td>\n",
       "      <td>POINT (34.53809185709999 36.75457974601678)</td>\n",
       "    </tr>\n",
       "  </tbody>\n",
       "</table>\n",
       "</div>"
      ],
      "text/plain": [
       "   ROWNUM        LAT        LNG  COLLECT_TIME  TIMEZONEOFFSET  \\\n",
       "0       1  40.340646  36.562329  1.472502e+09           180.0   \n",
       "1       2  37.036869  35.314641  1.472502e+09           180.0   \n",
       "2       3  39.598118  26.973218  1.472502e+09           180.0   \n",
       "3       4  38.388492  27.165315  1.472502e+09           180.0   \n",
       "4       5  36.754580  34.538092  1.472502e+09           180.0   \n",
       "\n",
       "                   CATEGORY          CATEGORY_NAME    COLLECT_TIME_UTC  \\\n",
       "0  4bf58dd8d48988d165941735  Outdoors & Recreation 2016-08-29 20:12:12   \n",
       "1  4bf58dd8d48988d116941735         Nightlife Spot 2016-08-29 20:12:12   \n",
       "2  4bf58dd8d48988d1e0931735                   Food 2016-08-29 20:12:12   \n",
       "3  4bf58dd8d48988d116941735         Nightlife Spot 2016-08-29 20:12:12   \n",
       "4  4bf58dd8d48988d1d0941735                   Food 2016-08-29 20:12:12   \n",
       "\n",
       "   COLLECT_TIME_lOCAL                                     geometry  \n",
       "0 2016-08-29 23:12:12  POINT (36.56232940745824 40.34064632272965)  \n",
       "1 2016-08-29 23:12:12  POINT (35.31464113166668 37.03686852745004)  \n",
       "2 2016-08-29 23:12:12  POINT (26.97321839034275 39.59811832811547)  \n",
       "3 2016-08-29 23:12:12  POINT (27.16531532459905 38.38849204824997)  \n",
       "4 2016-08-29 23:12:12  POINT (34.53809185709999 36.75457974601678)  "
      ]
     },
     "execution_count": 9,
     "metadata": {},
     "output_type": "execute_result"
    }
   ],
   "source": [
    "df = gpd.GeoDataFrame(df, geometry=geom)\n",
    "df.crs = {'init' :'epsg:4326'}\n",
    "df.head()"
   ]
  },
  {
   "cell_type": "code",
   "execution_count": 10,
   "metadata": {},
   "outputs": [],
   "source": [
    "geojson_file = 'nycGeo.geojson'"
   ]
  },
  {
   "cell_type": "code",
   "execution_count": 11,
   "metadata": {},
   "outputs": [],
   "source": [
    "TAZ = gpd.read_file(geojson_file)[['TAZ','geometry']]"
   ]
  },
  {
   "cell_type": "code",
   "execution_count": 12,
   "metadata": {},
   "outputs": [
    {
     "data": {
      "text/html": [
       "<div>\n",
       "<style scoped>\n",
       "    .dataframe tbody tr th:only-of-type {\n",
       "        vertical-align: middle;\n",
       "    }\n",
       "\n",
       "    .dataframe tbody tr th {\n",
       "        vertical-align: top;\n",
       "    }\n",
       "\n",
       "    .dataframe thead th {\n",
       "        text-align: right;\n",
       "    }\n",
       "</style>\n",
       "<table border=\"1\" class=\"dataframe\">\n",
       "  <thead>\n",
       "    <tr style=\"text-align: right;\">\n",
       "      <th></th>\n",
       "      <th>TAZ</th>\n",
       "      <th>geometry</th>\n",
       "    </tr>\n",
       "  </thead>\n",
       "  <tbody>\n",
       "    <tr>\n",
       "      <th>0</th>\n",
       "      <td>1</td>\n",
       "      <td>(POLYGON ((-74.01683300000001 40.705454, -74.0...</td>\n",
       "    </tr>\n",
       "    <tr>\n",
       "      <th>1</th>\n",
       "      <td>2</td>\n",
       "      <td>(POLYGON ((-74.01317400000001 40.719443, -74.0...</td>\n",
       "    </tr>\n",
       "    <tr>\n",
       "      <th>2</th>\n",
       "      <td>3</td>\n",
       "      <td>(POLYGON ((-74.027877 40.684782, -74.0278 40.6...</td>\n",
       "    </tr>\n",
       "    <tr>\n",
       "      <th>3</th>\n",
       "      <td>4</td>\n",
       "      <td>(POLYGON ((-74.008641 40.703439, -74.009623 40...</td>\n",
       "    </tr>\n",
       "    <tr>\n",
       "      <th>4</th>\n",
       "      <td>5</td>\n",
       "      <td>(POLYGON ((-74.005233 40.705619, -74.005645 40...</td>\n",
       "    </tr>\n",
       "  </tbody>\n",
       "</table>\n",
       "</div>"
      ],
      "text/plain": [
       "   TAZ                                           geometry\n",
       "0    1  (POLYGON ((-74.01683300000001 40.705454, -74.0...\n",
       "1    2  (POLYGON ((-74.01317400000001 40.719443, -74.0...\n",
       "2    3  (POLYGON ((-74.027877 40.684782, -74.0278 40.6...\n",
       "3    4  (POLYGON ((-74.008641 40.703439, -74.009623 40...\n",
       "4    5  (POLYGON ((-74.005233 40.705619, -74.005645 40..."
      ]
     },
     "execution_count": 12,
     "metadata": {},
     "output_type": "execute_result"
    }
   ],
   "source": [
    "TAZ.head()"
   ]
  },
  {
   "cell_type": "code",
   "execution_count": 13,
   "metadata": {},
   "outputs": [],
   "source": [
    "df_and_TAZ = gpd.sjoin(df, TAZ, op='within')"
   ]
  },
  {
   "cell_type": "code",
   "execution_count": 14,
   "metadata": {},
   "outputs": [
    {
     "data": {
      "text/plain": [
       "49647"
      ]
     },
     "execution_count": 14,
     "metadata": {},
     "output_type": "execute_result"
    }
   ],
   "source": [
    "len(df_and_TAZ)"
   ]
  },
  {
   "cell_type": "code",
   "execution_count": 15,
   "metadata": {},
   "outputs": [
    {
     "data": {
      "text/html": [
       "<div>\n",
       "<style scoped>\n",
       "    .dataframe tbody tr th:only-of-type {\n",
       "        vertical-align: middle;\n",
       "    }\n",
       "\n",
       "    .dataframe tbody tr th {\n",
       "        vertical-align: top;\n",
       "    }\n",
       "\n",
       "    .dataframe thead th {\n",
       "        text-align: right;\n",
       "    }\n",
       "</style>\n",
       "<table border=\"1\" class=\"dataframe\">\n",
       "  <thead>\n",
       "    <tr style=\"text-align: right;\">\n",
       "      <th></th>\n",
       "      <th>ROWNUM</th>\n",
       "      <th>LAT</th>\n",
       "      <th>LNG</th>\n",
       "      <th>COLLECT_TIME</th>\n",
       "      <th>TIMEZONEOFFSET</th>\n",
       "      <th>CATEGORY</th>\n",
       "      <th>CATEGORY_NAME</th>\n",
       "      <th>COLLECT_TIME_UTC</th>\n",
       "      <th>COLLECT_TIME_lOCAL</th>\n",
       "      <th>geometry</th>\n",
       "      <th>index_right</th>\n",
       "      <th>TAZ</th>\n",
       "    </tr>\n",
       "  </thead>\n",
       "  <tbody>\n",
       "    <tr>\n",
       "      <th>71</th>\n",
       "      <td>72</td>\n",
       "      <td>40.773644</td>\n",
       "      <td>-73.960819</td>\n",
       "      <td>1.472502e+09</td>\n",
       "      <td>-240.0</td>\n",
       "      <td>4bf58dd8d48988d196941735</td>\n",
       "      <td>Professional &amp; Other Places</td>\n",
       "      <td>2016-08-29 20:12:14</td>\n",
       "      <td>2016-08-29 16:12:14</td>\n",
       "      <td>POINT (-73.96081924438477 40.77364375001149)</td>\n",
       "      <td>187</td>\n",
       "      <td>188</td>\n",
       "    </tr>\n",
       "    <tr>\n",
       "      <th>354573</th>\n",
       "      <td>354574</td>\n",
       "      <td>40.771194</td>\n",
       "      <td>-73.961896</td>\n",
       "      <td>1.472512e+09</td>\n",
       "      <td>-240.0</td>\n",
       "      <td>4bf58dd8d48988d10c941735</td>\n",
       "      <td>Food</td>\n",
       "      <td>2016-08-29 23:07:26</td>\n",
       "      <td>2016-08-29 19:07:26</td>\n",
       "      <td>POINT (-73.961896067448 40.77119351512221)</td>\n",
       "      <td>187</td>\n",
       "      <td>188</td>\n",
       "    </tr>\n",
       "    <tr>\n",
       "      <th>458903</th>\n",
       "      <td>458904</td>\n",
       "      <td>40.770490</td>\n",
       "      <td>-73.962803</td>\n",
       "      <td>1.472516e+09</td>\n",
       "      <td>-240.0</td>\n",
       "      <td>4bf58dd8d48988d12b951735</td>\n",
       "      <td>Travel &amp; Transport</td>\n",
       "      <td>2016-08-30 00:08:03</td>\n",
       "      <td>2016-08-29 20:08:03</td>\n",
       "      <td>POINT (-73.96280294980241 40.77049022308537)</td>\n",
       "      <td>187</td>\n",
       "      <td>188</td>\n",
       "    </tr>\n",
       "    <tr>\n",
       "      <th>515788</th>\n",
       "      <td>515789</td>\n",
       "      <td>40.771442</td>\n",
       "      <td>-73.961613</td>\n",
       "      <td>1.472518e+09</td>\n",
       "      <td>-240.0</td>\n",
       "      <td>4bf58dd8d48988d1cc941735</td>\n",
       "      <td>Food</td>\n",
       "      <td>2016-08-30 00:48:52</td>\n",
       "      <td>2016-08-29 20:48:52</td>\n",
       "      <td>POINT (-73.96161317825316 40.77144186567578)</td>\n",
       "      <td>187</td>\n",
       "      <td>188</td>\n",
       "    </tr>\n",
       "    <tr>\n",
       "      <th>1641994</th>\n",
       "      <td>1641995</td>\n",
       "      <td>40.770144</td>\n",
       "      <td>-73.961526</td>\n",
       "      <td>1.472582e+09</td>\n",
       "      <td>-240.0</td>\n",
       "      <td>4bf58dd8d48988d177941735</td>\n",
       "      <td>Professional &amp; Other Places</td>\n",
       "      <td>2016-08-30 18:27:54</td>\n",
       "      <td>2016-08-30 14:27:54</td>\n",
       "      <td>POINT (-73.96152617499997 40.77014355)</td>\n",
       "      <td>187</td>\n",
       "      <td>188</td>\n",
       "    </tr>\n",
       "  </tbody>\n",
       "</table>\n",
       "</div>"
      ],
      "text/plain": [
       "          ROWNUM        LAT        LNG  COLLECT_TIME  TIMEZONEOFFSET  \\\n",
       "71            72  40.773644 -73.960819  1.472502e+09          -240.0   \n",
       "354573    354574  40.771194 -73.961896  1.472512e+09          -240.0   \n",
       "458903    458904  40.770490 -73.962803  1.472516e+09          -240.0   \n",
       "515788    515789  40.771442 -73.961613  1.472518e+09          -240.0   \n",
       "1641994  1641995  40.770144 -73.961526  1.472582e+09          -240.0   \n",
       "\n",
       "                         CATEGORY                CATEGORY_NAME  \\\n",
       "71       4bf58dd8d48988d196941735  Professional & Other Places   \n",
       "354573   4bf58dd8d48988d10c941735                         Food   \n",
       "458903   4bf58dd8d48988d12b951735           Travel & Transport   \n",
       "515788   4bf58dd8d48988d1cc941735                         Food   \n",
       "1641994  4bf58dd8d48988d177941735  Professional & Other Places   \n",
       "\n",
       "           COLLECT_TIME_UTC  COLLECT_TIME_lOCAL  \\\n",
       "71      2016-08-29 20:12:14 2016-08-29 16:12:14   \n",
       "354573  2016-08-29 23:07:26 2016-08-29 19:07:26   \n",
       "458903  2016-08-30 00:08:03 2016-08-29 20:08:03   \n",
       "515788  2016-08-30 00:48:52 2016-08-29 20:48:52   \n",
       "1641994 2016-08-30 18:27:54 2016-08-30 14:27:54   \n",
       "\n",
       "                                             geometry  index_right  TAZ  \n",
       "71       POINT (-73.96081924438477 40.77364375001149)          187  188  \n",
       "354573     POINT (-73.961896067448 40.77119351512221)          187  188  \n",
       "458903   POINT (-73.96280294980241 40.77049022308537)          187  188  \n",
       "515788   POINT (-73.96161317825316 40.77144186567578)          187  188  \n",
       "1641994        POINT (-73.96152617499997 40.77014355)          187  188  "
      ]
     },
     "execution_count": 15,
     "metadata": {},
     "output_type": "execute_result"
    }
   ],
   "source": [
    "df_and_TAZ.head()"
   ]
  },
  {
   "cell_type": "code",
   "execution_count": 16,
   "metadata": {},
   "outputs": [],
   "source": [
    "df1=df[df['LNG'].between(-74.0516,-73.9038) & df['LAT'].between(40.6818,40.8832)].copy()"
   ]
  },
  {
   "cell_type": "code",
   "execution_count": 17,
   "metadata": {},
   "outputs": [
    {
     "data": {
      "text/plain": [
       "49647"
      ]
     },
     "execution_count": 17,
     "metadata": {},
     "output_type": "execute_result"
    }
   ],
   "source": [
    "df1_and_TAZ = gpd.sjoin(df1, TAZ, op='within')\n",
    "len(df1_and_TAZ)"
   ]
  },
  {
   "cell_type": "code",
   "execution_count": 19,
   "metadata": {},
   "outputs": [],
   "source": [
    "df_and_TAZ.to_pickle('firehoseTAZ')"
   ]
  },
  {
   "cell_type": "code",
   "execution_count": null,
   "metadata": {},
   "outputs": [],
   "source": []
  }
 ],
 "metadata": {
  "kernelspec": {
   "display_name": "Python 3",
   "language": "python",
   "name": "python3"
  },
  "language_info": {
   "codemirror_mode": {
    "name": "ipython",
    "version": 3
   },
   "file_extension": ".py",
   "mimetype": "text/x-python",
   "name": "python",
   "nbconvert_exporter": "python",
   "pygments_lexer": "ipython3",
   "version": "3.5.4"
  }
 },
 "nbformat": 4,
 "nbformat_minor": 2
}
