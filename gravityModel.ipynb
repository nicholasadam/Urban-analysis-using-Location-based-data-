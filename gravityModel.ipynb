{
 "cells": [
  {
   "cell_type": "code",
   "execution_count": 38,
   "metadata": {},
   "outputs": [],
   "source": [
    "import numpy as np\n",
    "import pandas as pd\n",
    "from tqdm import tqdm"
   ]
  },
  {
   "cell_type": "code",
   "execution_count": 39,
   "metadata": {},
   "outputs": [],
   "source": [
    "df=pd.read_csv('raw.csv',header=None,index_col=False)"
   ]
  },
  {
   "cell_type": "code",
   "execution_count": 40,
   "metadata": {},
   "outputs": [
    {
     "data": {
      "text/html": [
       "<div>\n",
       "<style scoped>\n",
       "    .dataframe tbody tr th:only-of-type {\n",
       "        vertical-align: middle;\n",
       "    }\n",
       "\n",
       "    .dataframe tbody tr th {\n",
       "        vertical-align: top;\n",
       "    }\n",
       "\n",
       "    .dataframe thead th {\n",
       "        text-align: right;\n",
       "    }\n",
       "</style>\n",
       "<table border=\"1\" class=\"dataframe\">\n",
       "  <thead>\n",
       "    <tr style=\"text-align: right;\">\n",
       "      <th></th>\n",
       "      <th>0</th>\n",
       "      <th>1</th>\n",
       "      <th>2</th>\n",
       "      <th>3</th>\n",
       "      <th>4</th>\n",
       "      <th>5</th>\n",
       "      <th>6</th>\n",
       "      <th>7</th>\n",
       "      <th>8</th>\n",
       "      <th>9</th>\n",
       "      <th>10</th>\n",
       "      <th>11</th>\n",
       "      <th>12</th>\n",
       "      <th>13</th>\n",
       "      <th>14</th>\n",
       "      <th>15</th>\n",
       "      <th>16</th>\n",
       "    </tr>\n",
       "  </thead>\n",
       "  <tbody>\n",
       "    <tr>\n",
       "      <th>0</th>\n",
       "      <td>0.0</td>\n",
       "      <td>40.766</td>\n",
       "      <td>-73.978</td>\n",
       "      <td>40.768</td>\n",
       "      <td>-73.955</td>\n",
       "      <td>1.60</td>\n",
       "      <td>4.12</td>\n",
       "      <td>1.0</td>\n",
       "      <td>187.0</td>\n",
       "      <td>1.0</td>\n",
       "      <td>0.0</td>\n",
       "      <td>33.0</td>\n",
       "      <td>187.0</td>\n",
       "      <td>5.0</td>\n",
       "      <td>0.0</td>\n",
       "      <td>177.0</td>\n",
       "      <td>186.0</td>\n",
       "    </tr>\n",
       "    <tr>\n",
       "      <th>1</th>\n",
       "      <td>1.0</td>\n",
       "      <td>40.767</td>\n",
       "      <td>-73.971</td>\n",
       "      <td>40.741</td>\n",
       "      <td>-73.989</td>\n",
       "      <td>2.00</td>\n",
       "      <td>5.27</td>\n",
       "      <td>1.0</td>\n",
       "      <td>187.0</td>\n",
       "      <td>4.0</td>\n",
       "      <td>0.0</td>\n",
       "      <td>9.0</td>\n",
       "      <td>187.0</td>\n",
       "      <td>9.0</td>\n",
       "      <td>0.0</td>\n",
       "      <td>184.0</td>\n",
       "      <td>91.0</td>\n",
       "    </tr>\n",
       "    <tr>\n",
       "      <th>2</th>\n",
       "      <td>2.0</td>\n",
       "      <td>40.790</td>\n",
       "      <td>-73.955</td>\n",
       "      <td>40.791</td>\n",
       "      <td>-73.949</td>\n",
       "      <td>1.31</td>\n",
       "      <td>8.00</td>\n",
       "      <td>1.0</td>\n",
       "      <td>187.0</td>\n",
       "      <td>7.0</td>\n",
       "      <td>0.0</td>\n",
       "      <td>5.0</td>\n",
       "      <td>187.0</td>\n",
       "      <td>15.0</td>\n",
       "      <td>0.0</td>\n",
       "      <td>177.0</td>\n",
       "      <td>259.0</td>\n",
       "    </tr>\n",
       "    <tr>\n",
       "      <th>3</th>\n",
       "      <td>3.0</td>\n",
       "      <td>40.766</td>\n",
       "      <td>-73.976</td>\n",
       "      <td>40.788</td>\n",
       "      <td>-73.976</td>\n",
       "      <td>1.80</td>\n",
       "      <td>7.06</td>\n",
       "      <td>1.0</td>\n",
       "      <td>187.0</td>\n",
       "      <td>9.0</td>\n",
       "      <td>0.0</td>\n",
       "      <td>34.0</td>\n",
       "      <td>187.0</td>\n",
       "      <td>16.0</td>\n",
       "      <td>0.0</td>\n",
       "      <td>177.0</td>\n",
       "      <td>164.0</td>\n",
       "    </tr>\n",
       "    <tr>\n",
       "      <th>4</th>\n",
       "      <td>4.0</td>\n",
       "      <td>40.781</td>\n",
       "      <td>-73.961</td>\n",
       "      <td>40.812</td>\n",
       "      <td>-73.938</td>\n",
       "      <td>2.90</td>\n",
       "      <td>9.00</td>\n",
       "      <td>1.0</td>\n",
       "      <td>187.0</td>\n",
       "      <td>14.0</td>\n",
       "      <td>0.0</td>\n",
       "      <td>13.0</td>\n",
       "      <td>187.0</td>\n",
       "      <td>23.0</td>\n",
       "      <td>0.0</td>\n",
       "      <td>203.0</td>\n",
       "      <td>275.0</td>\n",
       "    </tr>\n",
       "  </tbody>\n",
       "</table>\n",
       "</div>"
      ],
      "text/plain": [
       "    0       1       2       3       4     5     6    7      8     9    10  \\\n",
       "0  0.0  40.766 -73.978  40.768 -73.955  1.60  4.12  1.0  187.0   1.0  0.0   \n",
       "1  1.0  40.767 -73.971  40.741 -73.989  2.00  5.27  1.0  187.0   4.0  0.0   \n",
       "2  2.0  40.790 -73.955  40.791 -73.949  1.31  8.00  1.0  187.0   7.0  0.0   \n",
       "3  3.0  40.766 -73.976  40.788 -73.976  1.80  7.06  1.0  187.0   9.0  0.0   \n",
       "4  4.0  40.781 -73.961  40.812 -73.938  2.90  9.00  1.0  187.0  14.0  0.0   \n",
       "\n",
       "     11     12    13   14     15     16  \n",
       "0  33.0  187.0   5.0  0.0  177.0  186.0  \n",
       "1   9.0  187.0   9.0  0.0  184.0   91.0  \n",
       "2   5.0  187.0  15.0  0.0  177.0  259.0  \n",
       "3  34.0  187.0  16.0  0.0  177.0  164.0  \n",
       "4  13.0  187.0  23.0  0.0  203.0  275.0  "
      ]
     },
     "execution_count": 40,
     "metadata": {},
     "output_type": "execute_result"
    }
   ],
   "source": [
    "df.head()"
   ]
  },
  {
   "cell_type": "code",
   "execution_count": 55,
   "metadata": {},
   "outputs": [],
   "source": [
    "tazCount=318"
   ]
  },
  {
   "cell_type": "code",
   "execution_count": 56,
   "metadata": {},
   "outputs": [],
   "source": [
    "OD=np.zeros((tazCount,tazCount))"
   ]
  },
  {
   "cell_type": "code",
   "execution_count": 57,
   "metadata": {},
   "outputs": [],
   "source": [
    "for i in range(len(df)):\n",
    "    pid=df.iloc[i,15]-1\n",
    "    aid=df.iloc[i,16]-1\n",
    "    if not np.isnan(pid+aid):\n",
    "        OD[int(pid)][int(aid)]+=1"
   ]
  },
  {
   "cell_type": "code",
   "execution_count": 91,
   "metadata": {},
   "outputs": [],
   "source": [
    "def CalcSinglyConstrained(ProdA, AttrA, F):\n",
    "    '''Calculates singly constrained trip distribution for a given friction factor matrix\n",
    "    ProdA = Production array\n",
    "    AttrA = Attraction array\n",
    "    F = Friction factor matrix\n",
    "    Resutrns trip table\n",
    "    '''\n",
    "    SumAjFij = (AttrA*F).sum(1)\n",
    "    SumAjFij[SumAjFij==0]=0.0001\n",
    "    return ProdA*(AttrA*F).transpose()/SumAjFij"
   ]
  },
  {
   "cell_type": "code",
   "execution_count": 123,
   "metadata": {},
   "outputs": [],
   "source": [
    "eps=1e-5"
   ]
  },
  {
   "cell_type": "code",
   "execution_count": 171,
   "metadata": {},
   "outputs": [
    {
     "name": "stdout",
     "output_type": "stream",
     "text": [
      "2.8010850525016147\n",
      "0.2062104035199805\n",
      "0.058170072295067134\n",
      "0.016815888937201443\n",
      "0.004841216081296985\n",
      "0.0013902230907991702\n",
      "0.00039879881904892494\n",
      "0.00011441022362327492\n",
      "3.287978041957989e-05\n",
      "9.515795875060941e-06\n",
      "2.8551143185055923e-06\n"
     ]
    }
   ],
   "source": [
    "Pro=np.sum(OD, axis=0)+eps\n",
    "Att=Attadj=np.sum(OD, axis=1)+eps\n",
    "F=OD.transpose()\n",
    "predictedOD=CalcSinglyConstrained(Pro, Att, F)\n",
    "MAE=np.mean(abs(np.array(predictedOD)-np.array(OD)))\n",
    "print (MAE)\n",
    "for i in range(10):\n",
    "    Pro=np.sum(predictedOD, axis=0)+eps\n",
    "    Att=np.sum(predictedOD, axis=1)+eps\n",
    "    Attadj=Attadj*(np.sum(OD, axis=1)/Att)\n",
    "    F=OD.transpose()\n",
    "    predictedOD=CalcSinglyConstrained(Pro, Attadj, F)\n",
    "    MAE=np.mean(abs(np.array(predictedOD)-np.array(OD)))\n",
    "    print (MAE)"
   ]
  },
  {
   "cell_type": "code",
   "execution_count": 183,
   "metadata": {},
   "outputs": [
    {
     "name": "stdout",
     "output_type": "stream",
     "text": [
      "Checking production, attraction balancing:\n",
      "Production:  518721.0\n",
      "Attraction:  518721.0\n",
      "Production, attraction balancing OK.\n",
      "3.984989060978653\n"
     ]
    }
   ],
   "source": [
    "Pro=Proadj=np.sum(OD, axis=0)\n",
    "Att=Attadj=np.sum(OD, axis=1)\n",
    "F=OD.transpose()\n",
    "predictedOD=CalcDoublyConstrained(Pro, Att, F, maxIter = 10)\n",
    "MAE=np.mean(abs(np.array(predictedOD)-np.array(OD)))\n",
    "print (MAE)"
   ]
  },
  {
   "cell_type": "code",
   "execution_count": 131,
   "metadata": {},
   "outputs": [],
   "source": [
    "def CalcDoublyConstrained(ProdA, AttrA, F, maxIter = 10):\n",
    "    '''Calculates doubly constrained trip distribution for a given friction factor matrix\n",
    "    ProdA = Production array\n",
    "    AttrA = Attraction array\n",
    "    F = Friction factor matrix\n",
    "    maxIter (optional) = maximum iterations, default is 10\n",
    "    Returns trip table\n",
    "    '''\n",
    "    Trips1 = np.zeros((len(ProdA),len(ProdA)))\n",
    "    print ('Checking production, attraction balancing:')\n",
    "    sumP = sum(ProdA)\n",
    "    sumA = sum(AttrA)\n",
    "    print ('Production: ', sumP)\n",
    "    print ('Attraction: ', sumA)\n",
    "    if sumP != sumA:\n",
    "        print ('Productions and attractions do not balance, attractions will be scaled to productions!')\n",
    "        AttrA = AttrA*(sumP/sumA)\n",
    "        AttrT = AttrA.copy()\n",
    "        ProdT = ProdA.copy()\n",
    "    else:\n",
    "        print ('Production, attraction balancing OK.')\n",
    "        AttrT = AttrA.copy()\n",
    "        ProdT = ProdA.copy()\n",
    "\n",
    "    for balIter in range(0, maxIter):\n",
    "        for i in range(0,len(ProdA)):\n",
    "            Trips1[i,:] = ProdA[i]*AttrA*F[i,:]/max(0.000001, sum(AttrA * F[i,:]))\n",
    "        \n",
    "        #Run 2D balancing --->\n",
    "        ComputedAttractions = Trips1.sum(0) \n",
    "        ComputedAttractions[ComputedAttractions==0]=1\n",
    "        AttrA = AttrA*(AttrT/ComputedAttractions)\n",
    "\n",
    "        ComputedProductions = Trips1.sum(1)\n",
    "        ComputedProductions[ComputedProductions==0]=1\n",
    "        ProdA = ProdA*(ProdT/ComputedProductions)\n",
    "\n",
    "    for i in range(0,len(ProdA)):\n",
    "            Trips1[i,:] = ProdA[i]*AttrA*F[i,:]/max(0.000001, sum(AttrA * F[i,:]))\n",
    "            \n",
    "    return Trips1"
   ]
  },
  {
   "cell_type": "code",
   "execution_count": null,
   "metadata": {},
   "outputs": [],
   "source": []
  }
 ],
 "metadata": {
  "kernelspec": {
   "display_name": "Python 3",
   "language": "python",
   "name": "python3"
  },
  "language_info": {
   "codemirror_mode": {
    "name": "ipython",
    "version": 3
   },
   "file_extension": ".py",
   "mimetype": "text/x-python",
   "name": "python",
   "nbconvert_exporter": "python",
   "pygments_lexer": "ipython3",
   "version": "3.5.4"
  }
 },
 "nbformat": 4,
 "nbformat_minor": 2
}
