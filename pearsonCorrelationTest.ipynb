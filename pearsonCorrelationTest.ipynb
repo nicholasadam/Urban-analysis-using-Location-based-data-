{
 "cells": [
  {
   "cell_type": "code",
   "execution_count": 1,
   "metadata": {},
   "outputs": [],
   "source": [
    "import scipy\n",
    "import scipy.stats\n",
    "import pandas as pd\n",
    "import numpy as np\n",
    "from tqdm import tqdm\n",
    "import time"
   ]
  },
  {
   "cell_type": "code",
   "execution_count": 2,
   "metadata": {},
   "outputs": [],
   "source": [
    "df = pd.read_pickle('firehoseTAZ')"
   ]
  },
  {
   "cell_type": "code",
   "execution_count": 3,
   "metadata": {},
   "outputs": [
    {
     "data": {
      "text/plain": [
       "111301"
      ]
     },
     "execution_count": 3,
     "metadata": {},
     "output_type": "execute_result"
    }
   ],
   "source": [
    "len(df)"
   ]
  },
  {
   "cell_type": "code",
   "execution_count": 4,
   "metadata": {},
   "outputs": [
    {
     "data": {
      "text/html": [
       "<div>\n",
       "<style scoped>\n",
       "    .dataframe tbody tr th:only-of-type {\n",
       "        vertical-align: middle;\n",
       "    }\n",
       "\n",
       "    .dataframe tbody tr th {\n",
       "        vertical-align: top;\n",
       "    }\n",
       "\n",
       "    .dataframe thead th {\n",
       "        text-align: right;\n",
       "    }\n",
       "</style>\n",
       "<table border=\"1\" class=\"dataframe\">\n",
       "  <thead>\n",
       "    <tr style=\"text-align: right;\">\n",
       "      <th></th>\n",
       "      <th>cate</th>\n",
       "      <th>day_of_week</th>\n",
       "      <th>hour_of_day</th>\n",
       "      <th>minute_of_day</th>\n",
       "      <th>TAZ</th>\n",
       "    </tr>\n",
       "  </thead>\n",
       "  <tbody>\n",
       "    <tr>\n",
       "      <th>0</th>\n",
       "      <td>Outdoors &amp; Recreation</td>\n",
       "      <td>3</td>\n",
       "      <td>2</td>\n",
       "      <td>127</td>\n",
       "      <td>40</td>\n",
       "    </tr>\n",
       "    <tr>\n",
       "      <th>1</th>\n",
       "      <td>Professional &amp; Other Places</td>\n",
       "      <td>3</td>\n",
       "      <td>7</td>\n",
       "      <td>478</td>\n",
       "      <td>40</td>\n",
       "    </tr>\n",
       "    <tr>\n",
       "      <th>2</th>\n",
       "      <td>Food</td>\n",
       "      <td>3</td>\n",
       "      <td>9</td>\n",
       "      <td>546</td>\n",
       "      <td>40</td>\n",
       "    </tr>\n",
       "    <tr>\n",
       "      <th>3</th>\n",
       "      <td>Food</td>\n",
       "      <td>3</td>\n",
       "      <td>9</td>\n",
       "      <td>553</td>\n",
       "      <td>40</td>\n",
       "    </tr>\n",
       "    <tr>\n",
       "      <th>4</th>\n",
       "      <td>Food</td>\n",
       "      <td>3</td>\n",
       "      <td>9</td>\n",
       "      <td>553</td>\n",
       "      <td>40</td>\n",
       "    </tr>\n",
       "  </tbody>\n",
       "</table>\n",
       "</div>"
      ],
      "text/plain": [
       "                          cate  day_of_week  hour_of_day  minute_of_day  TAZ\n",
       "0        Outdoors & Recreation            3            2            127   40\n",
       "1  Professional & Other Places            3            7            478   40\n",
       "2                         Food            3            9            546   40\n",
       "3                         Food            3            9            553   40\n",
       "4                         Food            3            9            553   40"
      ]
     },
     "execution_count": 4,
     "metadata": {},
     "output_type": "execute_result"
    }
   ],
   "source": [
    "df.head()"
   ]
  },
  {
   "cell_type": "code",
   "execution_count": 5,
   "metadata": {},
   "outputs": [],
   "source": [
    "sequenceLength=10\n",
    "timeLimit=60\n",
    "tazCount=318\n",
    "timeCount=1440"
   ]
  },
  {
   "cell_type": "code",
   "execution_count": 6,
   "metadata": {},
   "outputs": [],
   "source": [
    "arrival_t=np.zeros((tazCount,timeCount))"
   ]
  },
  {
   "cell_type": "code",
   "execution_count": 7,
   "metadata": {},
   "outputs": [
    {
     "name": "stderr",
     "output_type": "stream",
     "text": [
      "100%|███████████████████████████████| 111301/111301 [00:01<00:00, 59801.57it/s]\n"
     ]
    }
   ],
   "source": [
    "for i in tqdm(range(len(df))):\n",
    "    arrival_t[df.loc[i,'TAZ']-1][df.loc[i,'minute_of_day']]+=1"
   ]
  },
  {
   "cell_type": "code",
   "execution_count": 8,
   "metadata": {},
   "outputs": [],
   "source": [
    "arrival_t_pad=np.asarray([np.append(x,x[:sequenceLength+timeLimit]) for x in arrival_t])"
   ]
  },
  {
   "cell_type": "code",
   "execution_count": 9,
   "metadata": {},
   "outputs": [
    {
     "data": {
      "text/plain": [
       "(318, 1510)"
      ]
     },
     "execution_count": 9,
     "metadata": {},
     "output_type": "execute_result"
    }
   ],
   "source": [
    "arrival_t_pad.shape"
   ]
  },
  {
   "cell_type": "code",
   "execution_count": 10,
   "metadata": {},
   "outputs": [],
   "source": [
    "sequence_t=[]"
   ]
  },
  {
   "cell_type": "code",
   "execution_count": 11,
   "metadata": {},
   "outputs": [],
   "source": [
    "for i in range(tazCount):\n",
    "    for t in range(timeCount+timeLimit):\n",
    "        sequence_t.append(arrival_t_pad[i][t:t+sequenceLength])    "
   ]
  },
  {
   "cell_type": "code",
   "execution_count": 12,
   "metadata": {},
   "outputs": [],
   "source": [
    "friction=np.zeros((tazCount,tazCount))"
   ]
  },
  {
   "cell_type": "code",
   "execution_count": 13,
   "metadata": {},
   "outputs": [
    {
     "name": "stderr",
     "output_type": "stream",
     "text": [
      "100%|████████████████████████████████████████| 318/318 [30:20<00:00,  5.73s/it]\n"
     ]
    }
   ],
   "source": [
    "for i in tqdm(range(tazCount)):\n",
    "    for t in range(0,timeCount,sequenceLength):\n",
    "        #start_t_time = time.time()\n",
    "        if np.var(sequence_t[i*timeCount+t])!=0:\n",
    "            x=sequence_t[i*timeCount+t]\n",
    "            sequence_t_dataframe=np.array([sequence_t[j*timeCount+s] for j in range(tazCount) for s in range(t,t+timeLimit,sequenceLength)])\n",
    "            for k in range(timeLimit*tazCount//sequenceLength):\n",
    "                if np.var(sequence_t_dataframe[k])!=0:\n",
    "                    r=np.nan_to_num(scipy.stats.pearsonr(x, sequence_t_dataframe[k])[0])\n",
    "                    friction[i][k//(timeLimit//sequenceLength)]=friction[i][k//(timeLimit//sequenceLength)]+\\\n",
    "                    abs(r)\n",
    "        #end_t_time = time.time()\n"
   ]
  },
  {
   "cell_type": "code",
   "execution_count": 14,
   "metadata": {},
   "outputs": [],
   "source": [
    "frictionOnlyNegative=np.zeros((tazCount,tazCount))"
   ]
  },
  {
   "cell_type": "code",
   "execution_count": 15,
   "metadata": {
    "scrolled": true
   },
   "outputs": [
    {
     "name": "stderr",
     "output_type": "stream",
     "text": [
      "100%|████████████████████████████████████████| 318/318 [29:42<00:00,  5.60s/it]\n"
     ]
    }
   ],
   "source": [
    "for i in tqdm(range(tazCount)):\n",
    "    for t in range(0,timeCount,sequenceLength):\n",
    "        #start_t_time = time.time()\n",
    "        if np.var(sequence_t[i*timeCount+t])!=0:\n",
    "            x=sequence_t[i*timeCount+t]\n",
    "            sequence_t_dataframe=np.array([sequence_t[j*timeCount+s] for j in range(tazCount) for s in range(t,t+timeLimit,sequenceLength)])\n",
    "            for k in range(timeLimit*tazCount//sequenceLength):\n",
    "                if np.var(sequence_t_dataframe[k])!=0:\n",
    "                    r=np.nan_to_num(scipy.stats.pearsonr(x, sequence_t_dataframe[k])[0])\n",
    "                    if r<0:\n",
    "                        frictionOnlyNegative[i][k//(timeLimit//sequenceLength)]=frictionOnlyNegative[i][k//(timeLimit//sequenceLength)]+\\\n",
    "                        abs(r)\n",
    "        #end_t_time = time.time()\n"
   ]
  },
  {
   "cell_type": "code",
   "execution_count": 16,
   "metadata": {},
   "outputs": [],
   "source": [
    "frictionOnlyPositive=np.zeros((tazCount,tazCount))"
   ]
  },
  {
   "cell_type": "code",
   "execution_count": 17,
   "metadata": {},
   "outputs": [
    {
     "name": "stderr",
     "output_type": "stream",
     "text": [
      "100%|████████████████████████████████████████| 318/318 [29:29<00:00,  5.57s/it]\n"
     ]
    }
   ],
   "source": [
    "for i in tqdm(range(tazCount)):\n",
    "    for t in range(0,timeCount,sequenceLength):\n",
    "        #start_t_time = time.time()\n",
    "        if np.var(sequence_t[i*timeCount+t])!=0:\n",
    "            x=sequence_t[i*timeCount+t]\n",
    "            sequence_t_dataframe=np.array([sequence_t[j*timeCount+s] for j in range(tazCount) for s in range(t,t+timeLimit,sequenceLength)])\n",
    "            for k in range(timeLimit*tazCount//sequenceLength):\n",
    "                if np.var(sequence_t_dataframe[k])!=0:\n",
    "                    r=np.nan_to_num(scipy.stats.pearsonr(x, sequence_t_dataframe[k])[0])\n",
    "                    if r>0:\n",
    "                        frictionOnlyPositive[i][k//(timeLimit//sequenceLength)]=frictionOnlyPositive[i][k//(timeLimit//sequenceLength)]+\\\n",
    "                        abs(r)\n",
    "        #end_t_time = time.time()\n"
   ]
  },
  {
   "cell_type": "code",
   "execution_count": 18,
   "metadata": {},
   "outputs": [
    {
     "data": {
      "text/plain": [
       "array([[113.03443695, 105.13943142,   1.158658  , ...,  13.76396593,\n",
       "          5.30443895,  25.70889356],\n",
       "       [104.68370092, 231.56765535,   5.38328922, ...,  18.23391568,\n",
       "         10.78385137,  34.28077483],\n",
       "       [  0.33333333,   5.91532725,  10.38605097, ...,   2.45879027,\n",
       "          2.10710678,   6.20620489],\n",
       "       ...,\n",
       "       [  9.93974245,  20.06514155,   2.21821789, ...,  27.83333333,\n",
       "          3.5       ,  13.79692299],\n",
       "       [  5.39899327,   7.79777689,   1.        , ...,   7.27777778,\n",
       "         14.77777778,  10.91659375],\n",
       "       [ 33.07423747,  42.7886207 ,   5.89806397, ...,  15.99337544,\n",
       "          8.62514835,  85.49889427]])"
      ]
     },
     "execution_count": 18,
     "metadata": {},
     "output_type": "execute_result"
    }
   ],
   "source": [
    "np.save('friction', friction)\n",
    "np.load('friction.npy')"
   ]
  },
  {
   "cell_type": "code",
   "execution_count": 19,
   "metadata": {},
   "outputs": [
    {
     "data": {
      "text/plain": [
       "array([[26.18305623, 53.73705248,  1.158658  , ...,  5.21846408,\n",
       "         2.4194543 , 12.06869891],\n",
       "       [47.41739631, 64.44122173,  2.38328922, ...,  7.99844443,\n",
       "         3.65646144, 14.99066767],\n",
       "       [ 0.33333333,  1.83996651,  1.658658  , ...,  1.44044011,\n",
       "         0.77377345,  2.87287156],\n",
       "       ...,\n",
       "       [ 5.158608  ,  9.06340178,  1.55155122, ...,  2.16666667,\n",
       "         1.5       ,  7.87604761],\n",
       "       [ 2.06565994,  3.48134853,  0.33333333, ...,  1.27777778,\n",
       "         0.77777778,  5.86717148],\n",
       "       [12.61836005, 19.73749918,  1.72222222, ...,  7.1876155 ,\n",
       "         5.70772499, 20.2537789 ]])"
      ]
     },
     "execution_count": 19,
     "metadata": {},
     "output_type": "execute_result"
    }
   ],
   "source": [
    "np.save('frictionOnlyNegative', frictionOnlyNegative)\n",
    "np.load('frictionOnlyNegative.npy')"
   ]
  },
  {
   "cell_type": "code",
   "execution_count": 21,
   "metadata": {},
   "outputs": [
    {
     "data": {
      "text/plain": [
       "array([[ 86.85138072,  51.40237894,   0.        , ...,   8.54550185,\n",
       "          2.88498465,  13.64019465],\n",
       "       [ 57.26630461, 167.12643362,   3.        , ...,  10.23547125,\n",
       "          7.12738993,  19.29010716],\n",
       "       [  0.        ,   4.07536075,   8.72739297, ...,   1.01835015,\n",
       "          1.33333333,   3.33333333],\n",
       "       ...,\n",
       "       [  4.78113445,  11.00173977,   0.66666667, ...,  25.66666667,\n",
       "          2.        ,   5.92087539],\n",
       "       [  3.33333333,   4.31642835,   0.66666667, ...,   6.        ,\n",
       "         14.        ,   5.04942227],\n",
       "       [ 20.45587742,  23.05112153,   4.17584174, ...,   8.80575994,\n",
       "          2.91742337,  65.24511537]])"
      ]
     },
     "execution_count": 21,
     "metadata": {},
     "output_type": "execute_result"
    }
   ],
   "source": [
    "np.save('frictionOnlyPositive', frictionOnlyPositive)\n",
    "np.load('frictionOnlyPositive.npy')"
   ]
  },
  {
   "cell_type": "code",
   "execution_count": null,
   "metadata": {},
   "outputs": [],
   "source": []
  },
  {
   "cell_type": "code",
   "execution_count": null,
   "metadata": {},
   "outputs": [],
   "source": []
  },
  {
   "cell_type": "code",
   "execution_count": null,
   "metadata": {},
   "outputs": [],
   "source": []
  },
  {
   "cell_type": "code",
   "execution_count": 26,
   "metadata": {},
   "outputs": [],
   "source": [
    "frictionThreshold=np.zeros((tazCount,tazCount))"
   ]
  },
  {
   "cell_type": "code",
   "execution_count": null,
   "metadata": {},
   "outputs": [
    {
     "name": "stderr",
     "output_type": "stream",
     "text": [
      " 21%|████████▋                                | 67/318 [08:28<31:44,  7.59s/it]"
     ]
    }
   ],
   "source": [
    "for i in tqdm(range(tazCount)):\n",
    "    for t in range(0,timeCount,sequenceLength):\n",
    "        #start_t_time = time.time()\n",
    "        if np.var(sequence_t[i*timeCount+t])!=0:\n",
    "            x=sequence_t[i*timeCount+t]\n",
    "            sequence_t_dataframe=np.array([sequence_t[j*timeCount+s] for j in range(tazCount) for s in range(t,t+timeLimit,sequenceLength)])\n",
    "            for k in range(timeLimit*tazCount//sequenceLength):\n",
    "                if np.var(sequence_t_dataframe[k])!=0:\n",
    "                    r=np.nan_to_num(scipy.stats.pearsonr(x, sequence_t_dataframe[k])[0])\n",
    "                    if abs(r)>=0.7:\n",
    "                        frictionThreshold[i][k//(timeLimit//sequenceLength)]=frictionThreshold[i][k//(timeLimit//sequenceLength)]+\\\n",
    "                        abs(r)\n",
    "        #end_t_time = time.time()\n"
   ]
  },
  {
   "cell_type": "code",
   "execution_count": null,
   "metadata": {},
   "outputs": [],
   "source": [
    "np.save('frictionThreshold', frictionThreshold)\n",
    "np.load('frictionThreshold.npy')"
   ]
  },
  {
   "cell_type": "code",
   "execution_count": null,
   "metadata": {},
   "outputs": [],
   "source": []
  }
 ],
 "metadata": {
  "kernelspec": {
   "display_name": "Python 3",
   "language": "python",
   "name": "python3"
  },
  "language_info": {
   "codemirror_mode": {
    "name": "ipython",
    "version": 3
   },
   "file_extension": ".py",
   "mimetype": "text/x-python",
   "name": "python",
   "nbconvert_exporter": "python",
   "pygments_lexer": "ipython3",
   "version": "3.5.4"
  }
 },
 "nbformat": 4,
 "nbformat_minor": 2
}
